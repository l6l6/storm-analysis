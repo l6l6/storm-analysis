{
 "cells": [
  {
   "cell_type": "markdown",
   "metadata": {},
   "source": [
    "## Z Calibration Curves for 3D-DAOSTORM (and sCMOS).\n",
    "\n",
    "In this example we are trying to determine the coefficients $w_o,c,d,A,B,C,D$ in this equation:\n",
    "\n",
    "\\begin{equation*}\n",
    "W_{x,y} = w_o \\sqrt{1 + \\left(\\frac{z-c}{d}\\right)^2 + A\\left(\\frac{z-c}{d}\\right)^3 + B\\left(\\frac{z-c}{d}\\right)^4 + C\\left(\\frac{z-c}{d}\\right)^5 + D\\left(\\frac{z-c}{d}\\right)^6}\n",
    "\\end{equation*}\n",
    "\n",
    "This is a modified form of a typical microscope defocusing curve. $W_x$, $W_y$ are the widths of the localization as measured by 3D-DAOSTORM and $z$ is the localization $z$ offset in $um$.\n",
    "\n",
    "See also [Huang et al, Science, 2008](http://dx.doi.org/10.1126/science.1153529).\n"
   ]
  },
  {
   "cell_type": "markdown",
   "metadata": {},
   "source": [
    "### Configuration\n",
    "\n",
    "To perform z-calibration you need a movie of (small) fluorescent beads or single blinking dye molecules on a flat surface such as a coverslip. You then scan the coverslip through the focus of the microscope while recording a movie.\n",
    "\n",
    "In this example we'll simulate blinking dyes on a coverslip. The PSF is created using the pupil function approach and is purely astigmatic.\n",
    "\n",
    "Create an empty directory and change to that directory."
   ]
  },
  {
   "cell_type": "code",
   "execution_count": null,
   "metadata": {},
   "outputs": [],
   "source": [
    "import os\n",
    "os.chdir(\"/home/hbabcock/Data/storm_analysis/jy_testing/\")\n",
    "print(os.getcwd())"
   ]
  },
  {
   "cell_type": "markdown",
   "metadata": {},
   "source": [
    "Generate sample data for this example."
   ]
  },
  {
   "cell_type": "code",
   "execution_count": null,
   "metadata": {},
   "outputs": [],
   "source": [
    "import storm_analysis.jupyter_examples.dao3d_zcal as dao3d_zcal\n",
    "dao3d_zcal.configure()"
   ]
  },
  {
   "cell_type": "markdown",
   "metadata": {},
   "source": [
    "### 3D-DAOSTORM analysis of the calibration movie"
   ]
  },
  {
   "cell_type": "markdown",
   "metadata": {},
   "source": [
    "Set parameters for 3D-DAOSTORM analysis. Note the analysis is done using the `3d` PSF model, a Gaussian with independent widths in X/Y."
   ]
  },
  {
   "cell_type": "code",
   "execution_count": null,
   "metadata": {},
   "outputs": [],
   "source": [
    "import storm_analysis.sa_library.parameters as params\n",
    "\n",
    "# Load the parameters.\n",
    "daop = params.ParametersDAO().initFromFile(\"example.xml\")\n",
    "\n",
    "# Set for a single iteration, we don't want multiple iterations of peak finding\n",
    "# as this could cause stretched peaks to get split in half.\n",
    "daop.changeAttr(\"iterations\", 1)\n",
    "\n",
    "# Use a large find max radius. This also reduces peak splitting.\n",
    "daop.changeAttr(\"find_max_radius\", 10)\n",
    "\n",
    "# Use a higher threshold so that we don't get the dimmer localizations.\n",
    "daop.changeAttr(\"threshold\", 18)\n",
    "\n",
    "# Don't do tracking or drift correction.\n",
    "daop.changeAttr(\"radius\", 0.0)\n",
    "daop.changeAttr(\"drift_correction\", 0)\n",
    "\n",
    "# Save the changed parameters.\n",
    "daop.toXMLFile(\"calibration.xml\")\n"
   ]
  },
  {
   "cell_type": "markdown",
   "metadata": {},
   "source": [
    "Analyze the calibration movie with 3D-DAOSTORM"
   ]
  },
  {
   "cell_type": "code",
   "execution_count": null,
   "metadata": {},
   "outputs": [],
   "source": [
    "import os\n",
    "import storm_analysis.daostorm_3d.mufit_analysis as mfit\n",
    "\n",
    "if os.path.exists(\"calib.hdf5\"):\n",
    "    os.remove(\"calib.hdf5\")\n",
    "    \n",
    "mfit.analyze(\"calib.tif\", \"calib.hdf5\", \"calibration.xml\")\n"
   ]
  },
  {
   "cell_type": "markdown",
   "metadata": {},
   "source": [
    "Check results with with overlay images."
   ]
  },
  {
   "cell_type": "code",
   "execution_count": null,
   "metadata": {},
   "outputs": [],
   "source": [
    "# Overlay image at z near zero.\n",
    "import storm_analysis.jupyter_examples.overlay_image as overlay_image\n",
    "\n",
    "overlay_image.overlayImage(\"calib.tif\", \"calib.hdf5\", 40)\n"
   ]
  },
  {
   "cell_type": "markdown",
   "metadata": {},
   "source": [
    "### Z calibration"
   ]
  },
  {
   "cell_type": "markdown",
   "metadata": {},
   "source": [
    "First we will need a file containing the z-offsets for each frame. This file contains two columns, the first is whether or not the data in this frame should be used (0 = No, 1 = Yes) and the second contains the z offset in microns."
   ]
  },
  {
   "cell_type": "code",
   "execution_count": null,
   "metadata": {},
   "outputs": [],
   "source": [
    "import numpy\n",
    "\n",
    "# In this simulation the z range went from -0.6 microns to 0.6 microns in 10nm steps.\n",
    "z_range = dao3d_zcal.z_range\n",
    "z_offsets = numpy.arange(-z_range, z_range + 0.001, 0.01)\n",
    "valid = numpy.ones(z_offsets.size)\n",
    "\n",
    "# Limit the z range to +- 0.4um.\n",
    "mask = (numpy.abs(z_offsets) > 0.4)\n",
    "valid[mask] = 0.0\n",
    "\n",
    "numpy.savetxt(\"z_offsets.txt\", numpy.transpose(numpy.vstack((valid, z_offsets))))\n"
   ]
  },
  {
   "cell_type": "markdown",
   "metadata": {},
   "source": [
    "Plot Wx / Wy versus Z curves."
   ]
  },
  {
   "cell_type": "code",
   "execution_count": null,
   "metadata": {},
   "outputs": [],
   "source": [
    "import matplotlib\n",
    "import matplotlib.pyplot as pyplot\n",
    "\n",
    "# Change default figure size.\n",
    "matplotlib.rcParams['figure.figsize'] = (8,6)\n",
    "\n",
    "import storm_analysis.daostorm_3d.z_calibration as z_cal\n",
    "\n",
    "[wx, wy, z, pixel_size] = z_cal.loadWxWyZData(\"calib.hdf5\", \"z_offsets.txt\")\n",
    "\n",
    "pyplot.scatter(z, wx, color = 'r')\n",
    "pyplot.scatter(z, wy, color = 'b')\n",
    "pyplot.show()"
   ]
  },
  {
   "cell_type": "markdown",
   "metadata": {},
   "source": [
    "Now measure Z calibration curves. We'll do a second order fit, i.e. A,B will be fit, but not C,D.\n",
    "\n",
    "Note - The fitting is not super robust, so you may have to play with `fit_order` and `p_start` to get it to work. Usually it will work for `fit_order = 0`, but then it might fail for `fit_order = 1` but succeed for `fit_order = 2`."
   ]
  },
  {
   "cell_type": "code",
   "execution_count": null,
   "metadata": {},
   "outputs": [],
   "source": [
    "#\n",
    "# The function z_cal.calibrate() will perform all of these steps at once.\n",
    "#\n",
    "\n",
    "fit_order = 2\n",
    "outliers = 3.0 # Sigma to be considered an outlier.\n",
    "\n",
    "# Initial guess, this is optional, but might be necessary if your setup is\n",
    "# significantly different from what storm-analysis expects.\n",
    "#\n",
    "# It can also help to boot-strap to higher fitting orders.\n",
    "#\n",
    "p_start = [3.2,0.19,0.3]\n",
    "\n",
    "# Fit curves\n",
    "print(\"Fitting (round 1).\")\n",
    "[wx_params, wy_params] = z_cal.fitDefocusingCurves(wx, wy, z, n_additional = 0, z_params = p_start)\n",
    "print(wx_params)\n",
    "p_start = wx_params[:3]\n",
    "\n",
    "# Fit curves.\n",
    "print(\"Fitting (round 2).\")\n",
    "[wx_params, wy_params] = z_cal.fitDefocusingCurves(wx, wy, z, n_additional = fit_order, z_params = p_start)\n",
    "print(wx_params)\n",
    "p_start = wx_params[:3]\n",
    "\n",
    "# Remove outliers.\n",
    "print(\"Removing outliers.\")\n",
    "[t_wx, t_wy, t_z] = z_cal.removeOutliers(wx, wy, z, wx_params, wy_params, outliers)\n",
    "\n",
    "# Redo fit.\n",
    "print(\"Fitting (round 3).\")\n",
    "[wx_params, wy_params] = z_cal.fitDefocusingCurves(t_wx, t_wy, t_z, n_additional = fit_order, z_params = p_start)\n",
    "\n",
    "# Plot fit.\n",
    "z_cal.plotFit(wx, wy, z, t_wx, t_wy, t_z, wx_params, wy_params, z_range = 0.4)\n",
    "\n",
    "# This prints the parameter with the scale expected by 3D-DAOSTORM in the analysis XML file.\n",
    "z_cal.prettyPrint(wx_params, wy_params, pixel_size = pixel_size)"
   ]
  },
  {
   "cell_type": "markdown",
   "metadata": {},
   "source": [
    "Create a parameters file with these calibration values."
   ]
  },
  {
   "cell_type": "code",
   "execution_count": null,
   "metadata": {},
   "outputs": [],
   "source": [
    "# Load the parameters.\n",
    "daop = params.ParametersDAO().initFromFile(\"example.xml\")\n",
    "\n",
    "# Update calibration parameters.\n",
    "z_cal.setWxWyParams(daop, wx_params, wy_params, pixel_size)\n",
    "\n",
    "# Do z fitting.\n",
    "daop.changeAttr(\"do_zfit\", 1)\n",
    "\n",
    "# Set maximum allowed distance in wx, wy space that a point can be from the \n",
    "# calibration curve.\n",
    "daop.changeAttr(\"cutoff\", 2.0)\n",
    "\n",
    "# Use a higher threshold as the Gaussian PSF is not a good match for our PSF model, so\n",
    "# we'll get spurious peak splitting if it is too low.\n",
    "daop.changeAttr(\"threshold\", 12)\n",
    "\n",
    "# Don't do tracking or drift correction as this movie is the same as the calibration\n",
    "# movie, every frame has a different z value.\n",
    "daop.changeAttr(\"radius\", 0.0)\n",
    "daop.changeAttr(\"drift_correction\", 0)\n",
    "\n",
    "# Save the changed parameters.\n",
    "daop.toXMLFile(\"measure.xml\")"
   ]
  },
  {
   "cell_type": "markdown",
   "metadata": {},
   "source": [
    "### Analyze test movie with the z-calibration parameters."
   ]
  },
  {
   "cell_type": "code",
   "execution_count": null,
   "metadata": {},
   "outputs": [],
   "source": [
    "if os.path.exists(\"measure.hdf5\"):\n",
    "    os.remove(\"measure.hdf5\")\n",
    "    \n",
    "mfit.analyze(\"measure.tif\", \"measure.hdf5\", \"measure.xml\")\n"
   ]
  },
  {
   "cell_type": "markdown",
   "metadata": {},
   "source": [
    "Plot Wx / Wy versus Z curves for data from the test movie."
   ]
  },
  {
   "cell_type": "code",
   "execution_count": null,
   "metadata": {},
   "outputs": [],
   "source": [
    "[wx, wy, z, pixel_size] = z_cal.loadWxWyZData(\"measure.hdf5\", \"z_offsets.txt\")\n",
    "\n",
    "pyplot.scatter(z, wx, color = 'r')\n",
    "pyplot.scatter(z, wy, color = 'b')\n",
    "pyplot.show()"
   ]
  },
  {
   "cell_type": "markdown",
   "metadata": {},
   "source": [
    "Plot Wx versus Wy with the z calibration curve overlaid.\n",
    "\n",
    "This can be useful for checking that your calibration curve matches your data."
   ]
  },
  {
   "cell_type": "code",
   "execution_count": null,
   "metadata": {},
   "outputs": [],
   "source": [
    "\n",
    "# Load Z calibration parameters.\n",
    "m_params = params.ParametersDAO().initFromFile(\"measure.xml\")\n",
    "\n",
    "[wx_params, wy_params] = m_params.getWidthParams()\n",
    "[min_z, max_z] = m_params.getZRange()\n",
    "\n",
    "# Z range is in microns, want nanometers.\n",
    "min_z = min_z * 1.0e+3\n",
    "max_z = max_z * 1.0e+3\n",
    "\n",
    "# Calculate fit z curve at high resolution\n",
    "fz_wx_1 = z_cal.zcalib4(wx_params, numpy.arange(min_z, max_z + 1, 10))/dao3d_zcal.pixel_size\n",
    "fz_wy_1 = z_cal.zcalib4(wy_params, numpy.arange(min_z, max_z + 1, 10))/dao3d_zcal.pixel_size\n",
    "\n",
    "# Calculate fit z curve at 100nm resolution.\n",
    "fz_wx_2 = z_cal.zcalib4(wx_params, numpy.arange(min_z, max_z + 1, 100))/dao3d_zcal.pixel_size\n",
    "fz_wy_2 = z_cal.zcalib4(wy_params, numpy.arange(min_z, max_z + 1, 100))/dao3d_zcal.pixel_size\n",
    "\n",
    "# Make figure.\n",
    "fig = pyplot.figure(figsize = (8,8))\n",
    "pyplot.scatter(wx, wy, marker = \".\")\n",
    "pyplot.scatter(fz_wx_2, fz_wy_2, marker = \"o\", s = 120, edgecolor = \"black\", facecolor = 'none', linewidths = 2)\n",
    "pyplot.plot(fz_wx_1, fz_wy_1, color = \"black\", linewidth = 2)\n",
    "pyplot.xlim(2,10)\n",
    "pyplot.ylim(2,10)\n",
    "pyplot.xlabel(\"Wx (pixels)\")\n",
    "pyplot.ylabel(\"Wy (pixels)\")\n",
    "pyplot.show()"
   ]
  },
  {
   "cell_type": "markdown",
   "metadata": {},
   "source": [
    "Check how well we did at fitting Z."
   ]
  },
  {
   "cell_type": "code",
   "execution_count": null,
   "metadata": {},
   "outputs": [],
   "source": [
    "import storm_analysis.sa_library.sa_h5py as saH5Py\n",
    "\n",
    "# Create numpy arrays with the real and the measured z values.\n",
    "measured_z = numpy.array([])\n",
    "real_z = numpy.array([])\n",
    "\n",
    "with saH5Py.SAH5Reader(\"measure.hdf5\") as h5:\n",
    "    for fnum, locs in h5.localizationsIterator(fields = [\"category\", \"z\"]):\n",
    "        \n",
    "        # The z fit function will place all the localizations that are too\n",
    "        # far from the calibration curve into category 9.\n",
    "        mask = (locs[\"category\"] != 9)\n",
    "        z = locs[\"z\"][mask]\n",
    "        measured_z = numpy.concatenate((measured_z, z))\n",
    "        real_z = numpy.concatenate((real_z, numpy.ones(z.size)*z_offsets[fnum]))\n",
    "        \n",
    "# Plot\n",
    "fig = pyplot.figure(figsize = (8,8))\n",
    "ax = fig.add_subplot(1,1,1)\n",
    "ax.scatter(real_z, measured_z, s = 4)\n",
    "ax.plot([-1.0,1.0],[-1.0,1.0], color = 'black', linewidth = 2)\n",
    "ax.axis(\"equal\")\n",
    "ax.axis([-0.5, 0.5, -0.5, 0.5])\n",
    "pyplot.xlabel(\"Actual Z (um)\")\n",
    "pyplot.ylabel(\"Measured Z (um)\")"
   ]
  },
  {
   "cell_type": "markdown",
   "metadata": {},
   "source": [
    "Change the tolerance for the distance from the calibration curve and redo the Z fit."
   ]
  },
  {
   "cell_type": "code",
   "execution_count": null,
   "metadata": {},
   "outputs": [],
   "source": [
    "import shutil\n",
    "import storm_analysis.sa_utilities.fitz_c as fitz_c\n",
    "import storm_analysis.sa_utilities.std_analysis as std_ana\n",
    "\n",
    "m_params = params.ParametersDAO().initFromFile(\"measure.xml\")\n",
    "\n",
    "[wx_params, wy_params] = m_params.getWidthParams()\n",
    "[min_z, max_z] = m_params.getZRange()\n",
    "\n",
    "# Make a copy of the .hdf5 file as this operation will change it in place.\n",
    "shutil.copyfile(\"measure.hdf5\", \"measure_copy.hdf5\")\n",
    "\n",
    "m_params.changeAttr(\"cutoff\", 0.2)\n",
    "print(\"cutoff is\", m_params.getAttr(\"cutoff\"))\n",
    "\n",
    "# Re-fit z parameters.\n",
    "fitz_c.fitz(\"measure_copy.hdf5\", m_params.getAttr(\"cutoff\"),\n",
    "            wx_params, wy_params, min_z, max_z, m_params.getAttr(\"z_step\"))\n",
    "\n",
    "# Mark out of range peaks as category 9. The range is specified by the min_z and max_z parameters.\n",
    "std_ana.zCheck(\"measure_copy.hdf5\", m_params)"
   ]
  },
  {
   "cell_type": "code",
   "execution_count": null,
   "metadata": {},
   "outputs": [],
   "source": [
    "\n",
    "# Create numpy arrays with the real and the measured z values.\n",
    "measured_z = numpy.array([])\n",
    "real_z = numpy.array([])\n",
    "\n",
    "with saH5Py.SAH5Py(\"measure_copy.hdf5\") as h5:\n",
    "    for fnum, locs in h5.localizationsIterator(fields = [\"category\", \"z\"]):\n",
    "\n",
    "        # The z fit function will place all the localizations that are too\n",
    "        # far from the calibration curve into category 9.\n",
    "        mask = (locs[\"category\"] != 9)\n",
    "        z = locs[\"z\"][mask]\n",
    "        measured_z = numpy.concatenate((measured_z, z))\n",
    "        real_z = numpy.concatenate((real_z, numpy.ones(z.size)*z_offsets[fnum]))\n",
    "        \n",
    "# Plot\n",
    "fig = pyplot.figure(figsize = (8,8))\n",
    "ax = fig.add_subplot(1,1,1)\n",
    "ax.scatter(real_z, measured_z, s= 4)\n",
    "ax.plot([-1.0,1.0],[-1.0,1.0], color = 'black', linewidth = 2)\n",
    "ax.axis(\"equal\")\n",
    "ax.axis([-0.5, 0.5, -0.5, 0.5])\n",
    "pyplot.xlabel(\"Actual Z (um)\")\n",
    "pyplot.ylabel(\"Measured Z (um)\")"
   ]
  }
 ],
 "metadata": {
  "kernelspec": {
   "display_name": "Python 3",
   "language": "python",
   "name": "python3"
  },
  "language_info": {
   "codemirror_mode": {
    "name": "ipython",
    "version": 3
   },
   "file_extension": ".py",
   "mimetype": "text/x-python",
   "name": "python",
   "nbconvert_exporter": "python",
   "pygments_lexer": "ipython3",
   "version": "3.6.9"
  }
 },
 "nbformat": 4,
 "nbformat_minor": 2
}
