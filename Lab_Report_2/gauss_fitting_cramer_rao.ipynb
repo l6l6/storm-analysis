{
 "cells": [
  {
   "cell_type": "markdown",
   "metadata": {},
   "source": [
    "## Cramer-Rao bounds for (2D) Gaussian fitting.\n",
    "\n",
    "This notebook explains how to calculate the Cramer-Rao bounds for 2D Gaussian fitting. Basically this is the best resolution that you can a expect from a MLE Gaussian fitter like `3D-DAOSTORM` or `sCMOS`. In practice your resolution will often be worse due to issues like imperfect correction for stage drift, overlapping localizations, non-uniform background, etc.. It is also pretty common to find that your actual resolution is limited by labeling density. For example many antibodies that are good enough for conventional imaging will not reach the labeling density necessary to generate good SMLM images.\n",
    "\n",
    "References:\n",
    "* [Ober et al, Biophysical Journal, 2004](https://doi.org/10.1016/S0006-3495%2804%2974193-4).\n",
    "* [Mortensen et al, Nature Methods, 2010](http://dx.doi.org/10.1038/nmeth.1447)."
   ]
  },
  {
   "cell_type": "markdown",
   "metadata": {},
   "source": [
    "### Configuring the directory\n",
    "Create an empty directory somewhere on your computer and tell Python to go to that directory."
   ]
  },
  {
   "cell_type": "code",
   "execution_count": null,
   "metadata": {},
   "outputs": [],
   "source": [
    "import os\n",
    "os.chdir(\"/home/hbabcock/Data/storm_analysis/jy_testing/\")\n",
    "print(os.getcwd())"
   ]
  },
  {
   "cell_type": "markdown",
   "metadata": {},
   "source": [
    "Generate the XML file for `3D-DAOSTORM` analysis."
   ]
  },
  {
   "cell_type": "code",
   "execution_count": null,
   "metadata": {},
   "outputs": [],
   "source": [
    "import numpy\n",
    "import storm_analysis.jupyter_examples.dao3d_crao as dao3d_crao\n",
    "\n",
    "dao3d_crao.createParametersFile()"
   ]
  },
  {
   "cell_type": "markdown",
   "metadata": {},
   "source": [
    "### Calculating the Cramer-Rao bounds\n",
    "\n",
    "We're going to use `scipy.integrate.quad` to numerically integrate equation 5 in *Mortensen et al*.\n",
    "\n",
    "\\begin{equation*}\n",
    "Variance(\\mu_x) = \\frac{\\sigma^2_a}{N}\\left(1+\\int_{0}^{1}\\frac{\\ln{t}}{1+\\frac{Na^2t}{2\\pi\\sigma^2_ab^2}}dt\\right)^{-1}\n",
    "\\end{equation*}\n",
    "\n",
    "In this equation:  \n",
    "$\\mu_x$ is the estimate of the localization position.  \n",
    "$N$ is the integrated PSF intensity in $e^-$ (photo-electrons).  \n",
    "$b^2$ is the per pixel background in $e^-$.  \n",
    "$a$ is the pixel size in nanometers.  \n",
    "$\\sigma_a$ is the PSF $\\sigma$ in nanometers.  \n",
    "\n",
    "This is available as a function in the `storm_analysis.sa_utilities.mortensen` module. The function can calculate the expected $\\sigma$ for an sCMOS or an EMCCD camera. In this example we are simulating an idealized sCMOS camera which has no readout noise."
   ]
  },
  {
   "cell_type": "code",
   "execution_count": null,
   "metadata": {},
   "outputs": [],
   "source": [
    "import storm_analysis.sa_utilities.mortensen as mortensen\n",
    "\n",
    "dao3d_crao.signal = 2000\n",
    "dao3d_crao.bg = 50\n",
    "\n",
    "# The parameters that we'll used to generate the simulated data.\n",
    "print(\"N:\", dao3d_crao.signal)\n",
    "print(\"b2:\", dao3d_crao.bg)\n",
    "print(\"pixel size:\", dao3d_crao.pixel_size)\n",
    "print(\"PSF sigma:\", 1.5*dao3d_crao.pixel_size) # 1.5 pixels is the default PSF sigma used in these simulations.\n",
    "print(\"\")\n",
    "\n",
    "cr_sigma = mortensen.cramerRaoBound(dao3d_crao.signal, \n",
    "                                    dao3d_crao.bg, \n",
    "                                    dao3d_crao.pixel_size, \n",
    "                                    dao3d_crao.pixel_size * 1.5)\n",
    "print(\"Cramer-Rao fit sigma: {0:.3f}nm\".format(cr_sigma))"
   ]
  },
  {
   "cell_type": "markdown",
   "metadata": {},
   "source": [
    "### Generate simulated data"
   ]
  },
  {
   "cell_type": "code",
   "execution_count": null,
   "metadata": {},
   "outputs": [],
   "source": [
    "# Create localizations on a grid.\n",
    "dao3d_crao.createLocalizations()\n",
    "\n",
    "# Generate a 40 frame movie. We'll need a few thousand localizations to get good statistics.\n",
    "dao3d_crao.createMovie(40)\n"
   ]
  },
  {
   "cell_type": "markdown",
   "metadata": {},
   "source": [
    "### Analyze the simulated data with 3D-DAOSTORM\n",
    "\n",
    "In this example we are going to use the ability of `3D-DAOSTORM` to fit Gaussians starting at user defined positions. This is often convenient for simulated data where you just want to know how well fitting can be done without worrying about also finding the localizations.\n",
    "\n",
    "Note that even though the fitter is given the exactly correct position for each localization it will not return this position due to the noise in the image."
   ]
  },
  {
   "cell_type": "code",
   "execution_count": null,
   "metadata": {},
   "outputs": [],
   "source": [
    "import storm_analysis.sa_library.parameters as params\n",
    "daop = params.ParametersDAO().initFromFile(\"dao3d_crao.xml\")\n",
    "\n",
    "print(daop.helpAttr(\"peak_locations\"))\n",
    "\n",
    "print(\"\")\n",
    "print(\"peak_locations:\", daop.getAttr(\"peak_locations\"))"
   ]
  },
  {
   "cell_type": "code",
   "execution_count": null,
   "metadata": {},
   "outputs": [],
   "source": [
    "import storm_analysis.daostorm_3d.mufit_analysis as mfit\n",
    "\n",
    "# Remove stale results, if any.\n",
    "if os.path.exists(\"testing.hdf5\"):\n",
    "    os.remove(\"testing.hdf5\")\n",
    "    \n",
    "# (Re)run the analysis.\n",
    "mfit.analyze(\"test.tif\", \"testing.hdf5\", \"dao3d_crao.xml\")"
   ]
  },
  {
   "cell_type": "markdown",
   "metadata": {},
   "source": [
    "### Compare simulation error to theoritical error"
   ]
  },
  {
   "cell_type": "code",
   "execution_count": null,
   "metadata": {},
   "outputs": [],
   "source": [
    "import storm_analysis.sa_utilities.finding_fitting_error as ffe\n",
    "\n",
    "[dx, dy, dz] = ffe.findingFittingErrorHDF5File(\"test_ref.hdf5\", \"testing.hdf5\")\n",
    "\n",
    "print(\"Theoritical fitting error (sigma) {0:.3f}nm\".format(cr_sigma))\n",
    "print(\"Measured fitting error (sigma) {0:.3f}nm\".format(0.5*(numpy.std(dx) + numpy.std(dy))))\n"
   ]
  },
  {
   "cell_type": "code",
   "execution_count": null,
   "metadata": {},
   "outputs": [],
   "source": []
  }
 ],
 "metadata": {
  "kernelspec": {
   "display_name": "Python 3",
   "language": "python",
   "name": "python3"
  },
  "language_info": {
   "codemirror_mode": {
    "name": "ipython",
    "version": 3
   },
   "file_extension": ".py",
   "mimetype": "text/x-python",
   "name": "python",
   "nbconvert_exporter": "python",
   "pygments_lexer": "ipython3",
   "version": "3.6.7"
  }
 },
 "nbformat": 4,
 "nbformat_minor": 2
}
