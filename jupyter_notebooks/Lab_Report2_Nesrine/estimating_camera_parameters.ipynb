{
 "cells": [
  {
   "cell_type": "markdown",
   "metadata": {},
   "source": [
    "## Estimate the camera gain and offset from experimental data\n",
    "\n",
    "This notebook presents one approach to estimating the average gain and offset of a camera directly from experimental data. This can be useful if you just want a quick and approximately accurate estimate, or you are tasked with analyzing data that someone else gave you and they don't provide this information. In order to work it relies on the presence of a constant (on the 200 frame time scale) non-uniform background in the experimental data. \n",
    "\n",
    "Reference:\n",
    "* [Kothe et al, Histochemistry and Cell Biology, 2014](https://doi.org/10.1007/s00418-014-1211-4)\n"
   ]
  },
  {
   "cell_type": "markdown",
   "metadata": {},
   "source": [
    "### Configuring the directory\n",
    "Create an empty directory somewhere on your computer and tell Python to go to that directory."
   ]
  },
  {
   "cell_type": "code",
   "execution_count": null,
   "metadata": {},
   "outputs": [],
   "source": [
    "import matplotlib.pyplot as pyplot\n",
    "import numpy\n",
    "import os\n",
    "\n",
    "import storm_analysis.sa_library.datareader as dataReader\n",
    "\n",
    "os.chdir(\"/home/hbabcock/Data/storm_analysis/jy_testing/\")\n",
    "print(os.getcwd())\n",
    "\n",
    "numpy.random.seed(1)"
   ]
  },
  {
   "cell_type": "markdown",
   "metadata": {},
   "source": [
    "### Create simulated data"
   ]
  },
  {
   "cell_type": "code",
   "execution_count": null,
   "metadata": {},
   "outputs": [],
   "source": [
    "import storm_analysis.jupyter_examples.est_cam_params as est_cam_params\n",
    "\n",
    "# Create localizations for simulation.\n",
    "est_cam_params.createLocalizations()\n",
    "\n",
    "# Create simulated movie (200 frames)\n",
    "est_cam_params.createMovie(gain = 2.0, offset = 100.0)"
   ]
  },
  {
   "cell_type": "markdown",
   "metadata": {},
   "source": [
    "Display an image"
   ]
  },
  {
   "cell_type": "code",
   "execution_count": null,
   "metadata": {},
   "outputs": [],
   "source": [
    "import storm_analysis.sa_library.datareader as datareader\n",
    "\n",
    "frame = datareader.inferReader(\"test.tif\").loadAFrame(5).astype(numpy.float64)\n",
    "\n",
    "pyplot.figure(figsize = (6, 6))\n",
    "pyplot.imshow(frame, interpolation = 'nearest', cmap = \"gray\")\n",
    "pyplot.show()"
   ]
  },
  {
   "cell_type": "markdown",
   "metadata": {},
   "source": [
    "### Load movie and calculate mean and variance for each pixel"
   ]
  },
  {
   "cell_type": "code",
   "execution_count": null,
   "metadata": {},
   "outputs": [],
   "source": [
    "def calcMeanVar(movie_name):\n",
    "    with dataReader.inferReader(movie_name) as dr:\n",
    "        [w,h,l] = dr.filmSize()\n",
    "        if(l>200):\n",
    "            l = 200\n",
    "        n = numpy.zeros((h,w), dtype = numpy.int64)\n",
    "        nn = numpy.zeros((h,w), dtype = numpy.int64)\n",
    "        for i in range(l):\n",
    "            im = dr.loadAFrame(i)\n",
    "            im = im.astype(numpy.int64)\n",
    "            n = n + im\n",
    "            nn = nn + im*im\n",
    "        \n",
    "    mean = n/float(l)\n",
    "    var = nn/float(l) - mean*mean\n",
    "    \n",
    "    return [mean, var]\n"
   ]
  },
  {
   "cell_type": "code",
   "execution_count": null,
   "metadata": {},
   "outputs": [],
   "source": [
    "[mean, var] = calcMeanVar(\"test.tif\")"
   ]
  },
  {
   "cell_type": "markdown",
   "metadata": {},
   "source": [
    "### Plot data with estimated fit\n",
    "\n",
    "In this case we know what the actual camera values are so we can just use them. In general the easiest approach is to do the fit by eye, adjusting the gain and offset values to give you a line that goes through the cluster of points at the bottom of the mean vs variance graph. In Kothe et al. the authors estimated the fit using the [RANSAC](https://en.wikipedia.org/wiki/Random_sample_consensus) algorithm."
   ]
  },
  {
   "cell_type": "code",
   "execution_count": null,
   "metadata": {},
   "outputs": [],
   "source": [
    "# You may have to adjust these depending on your data.\n",
    "x_max = 150\n",
    "x_min = 100\n",
    "\n",
    "x = numpy.array([x_min, x_max])\n",
    "\n",
    "# In this function 100.0 is the offset and 2.0 is the camera gain.\n",
    "y = (x - 100.0)*2.0\n",
    "    \n",
    "pyplot.scatter(mean,var,s=1)\n",
    "pyplot.plot(x,y,color = \"black\")\n",
    "pyplot.xlim(x_min,x_max)\n",
    "\n",
    "# You may have to adjust the y range depending on your data.\n",
    "pyplot.ylim(0,200)\n",
    "pyplot.show()\n",
    "    "
   ]
  }
 ],
 "metadata": {
  "kernelspec": {
   "display_name": "Python 3",
   "language": "python",
   "name": "python3"
  },
  "language_info": {
   "codemirror_mode": {
    "name": "ipython",
    "version": 3
   },
   "file_extension": ".py",
   "mimetype": "text/x-python",
   "name": "python",
   "nbconvert_exporter": "python",
   "pygments_lexer": "ipython3",
   "version": "3.6.7"
  }
 },
 "nbformat": 4,
 "nbformat_minor": 2
}
